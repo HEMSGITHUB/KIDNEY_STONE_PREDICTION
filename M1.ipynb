{
 "cells": [
  {
   "cell_type": "markdown",
   "id": "08367e5c",
   "metadata": {},
   "source": [
    "### Importing warnings to avoid any Warnings"
   ]
  },
  {
   "cell_type": "code",
   "execution_count": 1,
   "id": "1486f759",
   "metadata": {},
   "outputs": [],
   "source": [
    "import warnings\n",
    "warnings.filterwarnings('ignore')"
   ]
  },
  {
   "cell_type": "markdown",
   "id": "73d76c81",
   "metadata": {},
   "source": [
    "### Importing Pandas and Numpy"
   ]
  },
  {
   "cell_type": "code",
   "execution_count": 2,
   "id": "60e1d80f",
   "metadata": {},
   "outputs": [],
   "source": [
    "import pandas as pd\n",
    "import numpy as np"
   ]
  },
  {
   "cell_type": "markdown",
   "id": "5edb0e77",
   "metadata": {},
   "source": [
    "### Loading CSV File"
   ]
  },
  {
   "cell_type": "code",
   "execution_count": 3,
   "id": "a0796b72",
   "metadata": {},
   "outputs": [],
   "source": [
    "data=pd.read_csv('KS.csv')"
   ]
  },
  {
   "cell_type": "markdown",
   "id": "afccf3a5",
   "metadata": {},
   "source": [
    "### Size of our Dataset\n"
   ]
  },
  {
   "cell_type": "code",
   "execution_count": 4,
   "id": "289a7d86",
   "metadata": {},
   "outputs": [
    {
     "name": "stdout",
     "output_type": "stream",
     "text": [
      "(316, 7)\n"
     ]
    }
   ],
   "source": [
    "print(data.shape)"
   ]
  },
  {
   "cell_type": "markdown",
   "id": "9105fe71",
   "metadata": {},
   "source": [
    "### Lets Know our Parameters"
   ]
  },
  {
   "cell_type": "code",
   "execution_count": 5,
   "id": "a8db563b",
   "metadata": {},
   "outputs": [
    {
     "data": {
      "text/plain": [
       "Index(['gravity', 'ph', 'osmo', 'cond', 'urea', 'calc', 'target'], dtype='object')"
      ]
     },
     "execution_count": 5,
     "metadata": {},
     "output_type": "execute_result"
    }
   ],
   "source": [
    "data.columns"
   ]
  },
  {
   "cell_type": "markdown",
   "id": "adadba6c",
   "metadata": {},
   "source": [
    "### Lets See is there any Null Values"
   ]
  },
  {
   "cell_type": "code",
   "execution_count": 6,
   "id": "c0d7a389",
   "metadata": {},
   "outputs": [
    {
     "data": {
      "text/plain": [
       "gravity    0\n",
       "ph         0\n",
       "osmo       0\n",
       "cond       0\n",
       "urea       0\n",
       "calc       0\n",
       "target     0\n",
       "dtype: int64"
      ]
     },
     "execution_count": 6,
     "metadata": {},
     "output_type": "execute_result"
    }
   ],
   "source": [
    "data.isnull().sum()"
   ]
  },
  {
   "cell_type": "code",
   "execution_count": 7,
   "id": "d5451bf8",
   "metadata": {},
   "outputs": [],
   "source": [
    "# So There were no null values"
   ]
  },
  {
   "cell_type": "markdown",
   "id": "07e37953",
   "metadata": {},
   "source": [
    "### Lets Check Unique Values\n"
   ]
  },
  {
   "cell_type": "code",
   "execution_count": 8,
   "id": "2627f0be",
   "metadata": {},
   "outputs": [
    {
     "data": {
      "text/plain": [
       "array([1.021, 1.017, 1.008, 1.011, 1.005, 1.02 , 1.012, 1.029, 1.015,\n",
       "       1.025, 1.006, 1.007, 1.018, 1.014, 1.024, 1.019, 1.023, 1.01 ,\n",
       "       1.009, 1.026, 1.013, 1.022, 1.031, 1.04 , 1.034, 1.033, 1.028,\n",
       "       1.027, 1.016])"
      ]
     },
     "execution_count": 8,
     "metadata": {},
     "output_type": "execute_result"
    }
   ],
   "source": [
    "data['gravity'].unique()"
   ]
  },
  {
   "cell_type": "code",
   "execution_count": 9,
   "id": "52e983b0",
   "metadata": {},
   "outputs": [
    {
     "data": {
      "text/plain": [
       "array([4.91, 5.74, 7.2 , 5.51, 6.52, 5.27, 5.62, 5.67, 5.41, 6.13, 6.19,\n",
       "       5.53, 7.12, 5.35, 5.21, 4.9 , 6.63, 6.81, 6.88, 6.14, 6.3 , 5.47,\n",
       "       7.38, 5.96, 5.68, 6.76, 7.61, 6.61, 5.87, 5.44, 7.92, 5.98, 6.56,\n",
       "       5.94, 5.85, 5.66, 6.4 , 6.35, 6.37, 6.18, 5.33, 5.64, 6.79, 5.97,\n",
       "       5.77, 5.6 , 5.36, 5.16, 5.86, 6.27, 7.01, 6.21, 5.73, 7.94, 6.28,\n",
       "       5.56, 5.71, 5.24, 5.58, 5.9 , 6.75, 6.9 , 6.29, 4.76, 5.4 , 5.14,\n",
       "       5.09, 7.9 , 4.81, 6.03])"
      ]
     },
     "execution_count": 9,
     "metadata": {},
     "output_type": "execute_result"
    }
   ],
   "source": [
    "data['ph'].unique()"
   ]
  },
  {
   "cell_type": "code",
   "execution_count": 10,
   "id": "6b3304e4",
   "metadata": {},
   "outputs": [
    {
     "data": {
      "text/plain": [
       "array([ 725,  577,  321,  408,  187,  668,  461, 1107,  543,  779,  345,\n",
       "        907,  242,  283,  450,  684,  253,  947,  395,  565,  874,  760,\n",
       "        631,  749,  455,  527,  225,  241,  781,  680,  579,  559,  256,\n",
       "        970,  702,  341,  704,  325,  694,  815,  386,  541,  343,  876,\n",
       "        774,  698,  866,  775,  853,  822,  531,  371,  443,  442,  364,\n",
       "        567,  838,  658,  854,  956, 1236, 1032,  487,  516,  456,  251,\n",
       "        945,  833,  312,  840,  703,  736,  721,  410,  803,  594,  416],\n",
       "      dtype=int64)"
      ]
     },
     "execution_count": 10,
     "metadata": {},
     "output_type": "execute_result"
    }
   ],
   "source": [
    "data['osmo'].unique()"
   ]
  },
  {
   "cell_type": "code",
   "execution_count": 11,
   "id": "c86b7ae2",
   "metadata": {},
   "outputs": [
    {
     "data": {
      "text/plain": [
       "array([14. , 20. , 14.9, 12.6,  7.5, 25.3, 17.4, 35.9, 21.9, 25.7, 11.5,\n",
       "       28.4, 11.3,  9.9, 17.9, 26.1,  8.4, 32.6, 23.6, 29.9, 33.8, 30.1,\n",
       "       11.2, 29. ,  8.8, 25.8,  9.8,  5.1, 15.5, 15.8,  8.1, 38. , 14.6,\n",
       "       24.5, 12.2, 23.3, 26. , 17.7, 20.9, 13.4, 35.8, 27.9, 19.5, 29.5,\n",
       "       31.2, 27.6, 21.4, 20.6, 10.9, 19.7, 14.3, 27. , 27.3, 29.1, 14.8,\n",
       "       20.8, 17.8, 33.6, 22.2, 12.4, 19.8, 13.3, 21.8, 12.8])"
      ]
     },
     "execution_count": 11,
     "metadata": {},
     "output_type": "execute_result"
    }
   ],
   "source": [
    "data['cond'].unique()"
   ]
  },
  {
   "cell_type": "code",
   "execution_count": 12,
   "id": "30b984c0",
   "metadata": {},
   "outputs": [
    {
     "data": {
      "text/plain": [
       "array([443, 296, 101, 224,  91, 252, 195, 550, 170, 382, 152, 448,  64,\n",
       "       147, 161, 284, 133, 395,  95, 214, 380, 199,  87, 422, 239, 270,\n",
       "        75,  72, 159, 349, 282, 297, 317, 130, 362, 330, 125, 260,  97,\n",
       "       311, 385, 104, 187, 126, 308, 325, 354, 360, 302, 364, 301, 197,\n",
       "       188, 124, 398, 516, 212, 486, 473, 620, 430, 198, 184, 164, 141,\n",
       "       396, 457,  10, 272, 418, 394, 255, 178], dtype=int64)"
      ]
     },
     "execution_count": 12,
     "metadata": {},
     "output_type": "execute_result"
    }
   ],
   "source": [
    "data['urea'].unique()"
   ]
  },
  {
   "cell_type": "code",
   "execution_count": 13,
   "id": "9f7beedf",
   "metadata": {},
   "outputs": [
    {
     "data": {
      "text/plain": [
       "array([ 2.45,  4.49,  2.36,  2.15,  1.16,  3.34,  1.4 ,  8.48,  2.21,\n",
       "        1.93,  1.27,  1.03,  1.47,  1.53,  5.09,  1.05,  2.03,  7.68,\n",
       "        1.45,  5.16,  0.81,  1.32,  1.55,  1.52,  0.77,  2.17,  0.17,\n",
       "        0.83,  3.04,  1.06,  3.93,  5.38,  3.53,  4.54,  3.98,  1.02,\n",
       "        3.46,  1.19,  5.64,  2.66,  1.22,  2.64,  2.31,  6.96, 13.  ,\n",
       "        5.54,  6.19,  7.31, 14.34,  4.74,  2.5 ,  4.18,  3.1 ,  3.01,\n",
       "        6.81,  8.28,  2.33,  7.18,  5.67, 12.68,  8.94,  3.16,  3.3 ,\n",
       "        6.99,  0.65,  4.45,  0.27,  7.64,  6.63,  8.53,  9.04,  0.58,\n",
       "        7.82, 12.2 ,  9.39])"
      ]
     },
     "execution_count": 13,
     "metadata": {},
     "output_type": "execute_result"
    }
   ],
   "source": [
    "data['calc'].unique()"
   ]
  },
  {
   "cell_type": "code",
   "execution_count": 14,
   "id": "7e1548d8",
   "metadata": {},
   "outputs": [
    {
     "data": {
      "text/plain": [
       "array([0, 1], dtype=int64)"
      ]
     },
     "execution_count": 14,
     "metadata": {},
     "output_type": "execute_result"
    }
   ],
   "source": [
    "data['target'].unique()"
   ]
  },
  {
   "cell_type": "markdown",
   "id": "5a7277b2",
   "metadata": {},
   "source": [
    "### Let we see first five rows of the data"
   ]
  },
  {
   "cell_type": "code",
   "execution_count": 15,
   "id": "4a4b152f",
   "metadata": {},
   "outputs": [
    {
     "data": {
      "text/html": [
       "<div>\n",
       "<style scoped>\n",
       "    .dataframe tbody tr th:only-of-type {\n",
       "        vertical-align: middle;\n",
       "    }\n",
       "\n",
       "    .dataframe tbody tr th {\n",
       "        vertical-align: top;\n",
       "    }\n",
       "\n",
       "    .dataframe thead th {\n",
       "        text-align: right;\n",
       "    }\n",
       "</style>\n",
       "<table border=\"1\" class=\"dataframe\">\n",
       "  <thead>\n",
       "    <tr style=\"text-align: right;\">\n",
       "      <th></th>\n",
       "      <th>gravity</th>\n",
       "      <th>ph</th>\n",
       "      <th>osmo</th>\n",
       "      <th>cond</th>\n",
       "      <th>urea</th>\n",
       "      <th>calc</th>\n",
       "      <th>target</th>\n",
       "    </tr>\n",
       "  </thead>\n",
       "  <tbody>\n",
       "    <tr>\n",
       "      <th>0</th>\n",
       "      <td>1.021</td>\n",
       "      <td>4.91</td>\n",
       "      <td>725</td>\n",
       "      <td>14.0</td>\n",
       "      <td>443</td>\n",
       "      <td>2.45</td>\n",
       "      <td>0</td>\n",
       "    </tr>\n",
       "    <tr>\n",
       "      <th>1</th>\n",
       "      <td>1.017</td>\n",
       "      <td>5.74</td>\n",
       "      <td>577</td>\n",
       "      <td>20.0</td>\n",
       "      <td>296</td>\n",
       "      <td>4.49</td>\n",
       "      <td>0</td>\n",
       "    </tr>\n",
       "    <tr>\n",
       "      <th>2</th>\n",
       "      <td>1.008</td>\n",
       "      <td>7.20</td>\n",
       "      <td>321</td>\n",
       "      <td>14.9</td>\n",
       "      <td>101</td>\n",
       "      <td>2.36</td>\n",
       "      <td>0</td>\n",
       "    </tr>\n",
       "    <tr>\n",
       "      <th>3</th>\n",
       "      <td>1.011</td>\n",
       "      <td>5.51</td>\n",
       "      <td>408</td>\n",
       "      <td>12.6</td>\n",
       "      <td>224</td>\n",
       "      <td>2.15</td>\n",
       "      <td>0</td>\n",
       "    </tr>\n",
       "    <tr>\n",
       "      <th>4</th>\n",
       "      <td>1.005</td>\n",
       "      <td>6.52</td>\n",
       "      <td>187</td>\n",
       "      <td>7.5</td>\n",
       "      <td>91</td>\n",
       "      <td>1.16</td>\n",
       "      <td>0</td>\n",
       "    </tr>\n",
       "  </tbody>\n",
       "</table>\n",
       "</div>"
      ],
      "text/plain": [
       "   gravity    ph  osmo  cond  urea  calc  target\n",
       "0    1.021  4.91   725  14.0   443  2.45       0\n",
       "1    1.017  5.74   577  20.0   296  4.49       0\n",
       "2    1.008  7.20   321  14.9   101  2.36       0\n",
       "3    1.011  5.51   408  12.6   224  2.15       0\n",
       "4    1.005  6.52   187   7.5    91  1.16       0"
      ]
     },
     "execution_count": 15,
     "metadata": {},
     "output_type": "execute_result"
    }
   ],
   "source": [
    "data.head()"
   ]
  },
  {
   "cell_type": "markdown",
   "id": "d23ef9e0",
   "metadata": {},
   "source": [
    "### Let's locate our central Values in Each Column"
   ]
  },
  {
   "cell_type": "code",
   "execution_count": 16,
   "id": "5ebea3e9",
   "metadata": {},
   "outputs": [
    {
     "data": {
      "text/html": [
       "<div>\n",
       "<style scoped>\n",
       "    .dataframe tbody tr th:only-of-type {\n",
       "        vertical-align: middle;\n",
       "    }\n",
       "\n",
       "    .dataframe tbody tr th {\n",
       "        vertical-align: top;\n",
       "    }\n",
       "\n",
       "    .dataframe thead th {\n",
       "        text-align: right;\n",
       "    }\n",
       "</style>\n",
       "<table border=\"1\" class=\"dataframe\">\n",
       "  <thead>\n",
       "    <tr style=\"text-align: right;\">\n",
       "      <th></th>\n",
       "      <th>gravity</th>\n",
       "      <th>ph</th>\n",
       "      <th>osmo</th>\n",
       "      <th>cond</th>\n",
       "      <th>urea</th>\n",
       "      <th>calc</th>\n",
       "      <th>target</th>\n",
       "    </tr>\n",
       "  </thead>\n",
       "  <tbody>\n",
       "    <tr>\n",
       "      <th>count</th>\n",
       "      <td>316.000000</td>\n",
       "      <td>316.000000</td>\n",
       "      <td>316.000000</td>\n",
       "      <td>316.000000</td>\n",
       "      <td>316.000000</td>\n",
       "      <td>316.000000</td>\n",
       "      <td>316.000000</td>\n",
       "    </tr>\n",
       "    <tr>\n",
       "      <th>mean</th>\n",
       "      <td>1.018114</td>\n",
       "      <td>6.028481</td>\n",
       "      <td>612.848101</td>\n",
       "      <td>20.813924</td>\n",
       "      <td>266.405063</td>\n",
       "      <td>4.138987</td>\n",
       "      <td>0.430380</td>\n",
       "    </tr>\n",
       "    <tr>\n",
       "      <th>std</th>\n",
       "      <td>0.007205</td>\n",
       "      <td>0.720850</td>\n",
       "      <td>236.381026</td>\n",
       "      <td>7.901099</td>\n",
       "      <td>130.628033</td>\n",
       "      <td>3.244490</td>\n",
       "      <td>0.495915</td>\n",
       "    </tr>\n",
       "    <tr>\n",
       "      <th>min</th>\n",
       "      <td>1.005000</td>\n",
       "      <td>4.760000</td>\n",
       "      <td>187.000000</td>\n",
       "      <td>5.100000</td>\n",
       "      <td>10.000000</td>\n",
       "      <td>0.170000</td>\n",
       "      <td>0.000000</td>\n",
       "    </tr>\n",
       "    <tr>\n",
       "      <th>25%</th>\n",
       "      <td>1.012000</td>\n",
       "      <td>5.530000</td>\n",
       "      <td>410.000000</td>\n",
       "      <td>14.000000</td>\n",
       "      <td>159.000000</td>\n",
       "      <td>1.450000</td>\n",
       "      <td>0.000000</td>\n",
       "    </tr>\n",
       "    <tr>\n",
       "      <th>50%</th>\n",
       "      <td>1.018000</td>\n",
       "      <td>5.940000</td>\n",
       "      <td>594.000000</td>\n",
       "      <td>21.400000</td>\n",
       "      <td>260.000000</td>\n",
       "      <td>3.160000</td>\n",
       "      <td>0.000000</td>\n",
       "    </tr>\n",
       "    <tr>\n",
       "      <th>75%</th>\n",
       "      <td>1.024000</td>\n",
       "      <td>6.400000</td>\n",
       "      <td>803.000000</td>\n",
       "      <td>27.000000</td>\n",
       "      <td>380.000000</td>\n",
       "      <td>6.190000</td>\n",
       "      <td>1.000000</td>\n",
       "    </tr>\n",
       "    <tr>\n",
       "      <th>max</th>\n",
       "      <td>1.040000</td>\n",
       "      <td>7.940000</td>\n",
       "      <td>1236.000000</td>\n",
       "      <td>38.000000</td>\n",
       "      <td>620.000000</td>\n",
       "      <td>14.340000</td>\n",
       "      <td>1.000000</td>\n",
       "    </tr>\n",
       "  </tbody>\n",
       "</table>\n",
       "</div>"
      ],
      "text/plain": [
       "          gravity          ph         osmo        cond        urea  \\\n",
       "count  316.000000  316.000000   316.000000  316.000000  316.000000   \n",
       "mean     1.018114    6.028481   612.848101   20.813924  266.405063   \n",
       "std      0.007205    0.720850   236.381026    7.901099  130.628033   \n",
       "min      1.005000    4.760000   187.000000    5.100000   10.000000   \n",
       "25%      1.012000    5.530000   410.000000   14.000000  159.000000   \n",
       "50%      1.018000    5.940000   594.000000   21.400000  260.000000   \n",
       "75%      1.024000    6.400000   803.000000   27.000000  380.000000   \n",
       "max      1.040000    7.940000  1236.000000   38.000000  620.000000   \n",
       "\n",
       "             calc      target  \n",
       "count  316.000000  316.000000  \n",
       "mean     4.138987    0.430380  \n",
       "std      3.244490    0.495915  \n",
       "min      0.170000    0.000000  \n",
       "25%      1.450000    0.000000  \n",
       "50%      3.160000    0.000000  \n",
       "75%      6.190000    1.000000  \n",
       "max     14.340000    1.000000  "
      ]
     },
     "execution_count": 16,
     "metadata": {},
     "output_type": "execute_result"
    }
   ],
   "source": [
    "data.describe()"
   ]
  },
  {
   "cell_type": "code",
   "execution_count": 17,
   "id": "680a15fe",
   "metadata": {},
   "outputs": [
    {
     "data": {
      "text/plain": [
       "0    180\n",
       "1    136\n",
       "Name: target, dtype: int64"
      ]
     },
     "execution_count": 17,
     "metadata": {},
     "output_type": "execute_result"
    }
   ],
   "source": [
    "data['target'].value_counts()"
   ]
  },
  {
   "cell_type": "code",
   "execution_count": 18,
   "id": "55955914",
   "metadata": {},
   "outputs": [
    {
     "data": {
      "text/html": [
       "<div>\n",
       "<style scoped>\n",
       "    .dataframe tbody tr th:only-of-type {\n",
       "        vertical-align: middle;\n",
       "    }\n",
       "\n",
       "    .dataframe tbody tr th {\n",
       "        vertical-align: top;\n",
       "    }\n",
       "\n",
       "    .dataframe thead th {\n",
       "        text-align: right;\n",
       "    }\n",
       "</style>\n",
       "<table border=\"1\" class=\"dataframe\">\n",
       "  <thead>\n",
       "    <tr style=\"text-align: right;\">\n",
       "      <th></th>\n",
       "      <th>gravity</th>\n",
       "      <th>ph</th>\n",
       "      <th>osmo</th>\n",
       "      <th>cond</th>\n",
       "      <th>urea</th>\n",
       "      <th>calc</th>\n",
       "      <th>target</th>\n",
       "    </tr>\n",
       "  </thead>\n",
       "  <tbody>\n",
       "    <tr>\n",
       "      <th>gravity</th>\n",
       "      <td>1.000000</td>\n",
       "      <td>-0.253340</td>\n",
       "      <td>0.861466</td>\n",
       "      <td>0.559064</td>\n",
       "      <td>0.823477</td>\n",
       "      <td>0.525699</td>\n",
       "      <td>0.419818</td>\n",
       "    </tr>\n",
       "    <tr>\n",
       "      <th>ph</th>\n",
       "      <td>-0.253340</td>\n",
       "      <td>1.000000</td>\n",
       "      <td>-0.238841</td>\n",
       "      <td>-0.097680</td>\n",
       "      <td>-0.275557</td>\n",
       "      <td>-0.119488</td>\n",
       "      <td>-0.112191</td>\n",
       "    </tr>\n",
       "    <tr>\n",
       "      <th>osmo</th>\n",
       "      <td>0.861466</td>\n",
       "      <td>-0.238841</td>\n",
       "      <td>1.000000</td>\n",
       "      <td>0.812780</td>\n",
       "      <td>0.871178</td>\n",
       "      <td>0.522979</td>\n",
       "      <td>0.231834</td>\n",
       "    </tr>\n",
       "    <tr>\n",
       "      <th>cond</th>\n",
       "      <td>0.559064</td>\n",
       "      <td>-0.097680</td>\n",
       "      <td>0.812780</td>\n",
       "      <td>1.000000</td>\n",
       "      <td>0.495405</td>\n",
       "      <td>0.351030</td>\n",
       "      <td>0.059717</td>\n",
       "    </tr>\n",
       "    <tr>\n",
       "      <th>urea</th>\n",
       "      <td>0.823477</td>\n",
       "      <td>-0.275557</td>\n",
       "      <td>0.871178</td>\n",
       "      <td>0.495405</td>\n",
       "      <td>1.000000</td>\n",
       "      <td>0.502327</td>\n",
       "      <td>0.258402</td>\n",
       "    </tr>\n",
       "    <tr>\n",
       "      <th>calc</th>\n",
       "      <td>0.525699</td>\n",
       "      <td>-0.119488</td>\n",
       "      <td>0.522979</td>\n",
       "      <td>0.351030</td>\n",
       "      <td>0.502327</td>\n",
       "      <td>1.000000</td>\n",
       "      <td>0.537728</td>\n",
       "    </tr>\n",
       "    <tr>\n",
       "      <th>target</th>\n",
       "      <td>0.419818</td>\n",
       "      <td>-0.112191</td>\n",
       "      <td>0.231834</td>\n",
       "      <td>0.059717</td>\n",
       "      <td>0.258402</td>\n",
       "      <td>0.537728</td>\n",
       "      <td>1.000000</td>\n",
       "    </tr>\n",
       "  </tbody>\n",
       "</table>\n",
       "</div>"
      ],
      "text/plain": [
       "          gravity        ph      osmo      cond      urea      calc    target\n",
       "gravity  1.000000 -0.253340  0.861466  0.559064  0.823477  0.525699  0.419818\n",
       "ph      -0.253340  1.000000 -0.238841 -0.097680 -0.275557 -0.119488 -0.112191\n",
       "osmo     0.861466 -0.238841  1.000000  0.812780  0.871178  0.522979  0.231834\n",
       "cond     0.559064 -0.097680  0.812780  1.000000  0.495405  0.351030  0.059717\n",
       "urea     0.823477 -0.275557  0.871178  0.495405  1.000000  0.502327  0.258402\n",
       "calc     0.525699 -0.119488  0.522979  0.351030  0.502327  1.000000  0.537728\n",
       "target   0.419818 -0.112191  0.231834  0.059717  0.258402  0.537728  1.000000"
      ]
     },
     "execution_count": 18,
     "metadata": {},
     "output_type": "execute_result"
    }
   ],
   "source": [
    "data.corr()"
   ]
  }
 ],
 "metadata": {
  "kernelspec": {
   "display_name": "Python 3 (ipykernel)",
   "language": "python",
   "name": "python3"
  },
  "language_info": {
   "codemirror_mode": {
    "name": "ipython",
    "version": 3
   },
   "file_extension": ".py",
   "mimetype": "text/x-python",
   "name": "python",
   "nbconvert_exporter": "python",
   "pygments_lexer": "ipython3",
   "version": "3.7.13"
  }
 },
 "nbformat": 4,
 "nbformat_minor": 5
}
