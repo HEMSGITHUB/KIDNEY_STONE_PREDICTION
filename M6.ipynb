{
 "cells": [
  {
   "cell_type": "markdown",
   "id": "e9aece9c",
   "metadata": {},
   "source": [
    "## Random Forest Classifier"
   ]
  },
  {
   "cell_type": "code",
   "execution_count": 1,
   "id": "8484958d",
   "metadata": {},
   "outputs": [],
   "source": [
    "import warnings\n",
    "warnings.filterwarnings('ignore')"
   ]
  },
  {
   "cell_type": "code",
   "execution_count": 2,
   "id": "3c83c9e7",
   "metadata": {},
   "outputs": [],
   "source": [
    "import pandas as pd"
   ]
  },
  {
   "cell_type": "code",
   "execution_count": 3,
   "id": "a6b8942b",
   "metadata": {},
   "outputs": [],
   "source": [
    "import numpy as np"
   ]
  },
  {
   "cell_type": "code",
   "execution_count": 4,
   "id": "92909cc3",
   "metadata": {},
   "outputs": [],
   "source": [
    "from sklearn.ensemble import RandomForestClassifier"
   ]
  },
  {
   "cell_type": "code",
   "execution_count": 5,
   "id": "052f34e5",
   "metadata": {},
   "outputs": [],
   "source": [
    "from sklearn.metrics import classification_report, confusion_matrix, plot_confusion_matrix, accuracy_score"
   ]
  },
  {
   "cell_type": "code",
   "execution_count": 6,
   "id": "e8f6de21",
   "metadata": {},
   "outputs": [],
   "source": [
    "from sklearn.model_selection import train_test_split"
   ]
  },
  {
   "cell_type": "markdown",
   "id": "c017c26f",
   "metadata": {},
   "source": [
    "### Loading CSV File"
   ]
  },
  {
   "cell_type": "code",
   "execution_count": 7,
   "id": "d8500c5b",
   "metadata": {},
   "outputs": [],
   "source": [
    "data=pd.read_csv('KS.csv')\n"
   ]
  },
  {
   "cell_type": "markdown",
   "id": "4247f055",
   "metadata": {},
   "source": [
    "### Let's Know the shape of our Dataset"
   ]
  },
  {
   "cell_type": "code",
   "execution_count": 8,
   "id": "d76da8e8",
   "metadata": {},
   "outputs": [
    {
     "data": {
      "text/plain": [
       "(316, 7)"
      ]
     },
     "execution_count": 8,
     "metadata": {},
     "output_type": "execute_result"
    }
   ],
   "source": [
    "data.shape"
   ]
  },
  {
   "cell_type": "markdown",
   "id": "780a06ba",
   "metadata": {},
   "source": [
    "### Let's Know our Columns"
   ]
  },
  {
   "cell_type": "code",
   "execution_count": 9,
   "id": "ba4af168",
   "metadata": {},
   "outputs": [
    {
     "data": {
      "text/plain": [
       "Index(['gravity', 'ph', 'osmo', 'cond', 'urea', 'calc', 'target'], dtype='object')"
      ]
     },
     "execution_count": 9,
     "metadata": {},
     "output_type": "execute_result"
    }
   ],
   "source": [
    "data.columns"
   ]
  },
  {
   "cell_type": "markdown",
   "id": "e0293cae",
   "metadata": {},
   "source": [
    "### Let's seperate data"
   ]
  },
  {
   "cell_type": "code",
   "execution_count": 10,
   "id": "fb3322cd",
   "metadata": {},
   "outputs": [],
   "source": [
    "features = ['gravity', 'ph', 'osmo', 'cond', 'urea', 'calc']\n",
    "target=['target']"
   ]
  },
  {
   "cell_type": "code",
   "execution_count": 11,
   "id": "db9b07e7",
   "metadata": {},
   "outputs": [],
   "source": [
    "x=data[features]\n",
    "y=data[target]"
   ]
  },
  {
   "cell_type": "markdown",
   "id": "a8d6be26",
   "metadata": {},
   "source": [
    "### Let's Split and Train Data"
   ]
  },
  {
   "cell_type": "code",
   "execution_count": 12,
   "id": "de1382eb",
   "metadata": {},
   "outputs": [],
   "source": [
    "x_train,x_test,y_train,y_test=train_test_split(x,y,test_size=0.3,stratify=y)"
   ]
  },
  {
   "cell_type": "code",
   "execution_count": 13,
   "id": "1f65fb71",
   "metadata": {},
   "outputs": [
    {
     "data": {
      "text/plain": [
       "RandomForestClassifier()"
      ]
     },
     "execution_count": 13,
     "metadata": {},
     "output_type": "execute_result"
    }
   ],
   "source": [
    "RFC=RandomForestClassifier()\n",
    "RFC.fit(x_train,y_train)"
   ]
  },
  {
   "cell_type": "code",
   "execution_count": 15,
   "id": "6b78db1e",
   "metadata": {},
   "outputs": [],
   "source": [
    "y_prediction=RFC.predict(x_test)"
   ]
  },
  {
   "cell_type": "markdown",
   "id": "9b67c76d",
   "metadata": {},
   "source": [
    "### Accuracy Score"
   ]
  },
  {
   "cell_type": "code",
   "execution_count": 16,
   "id": "291ed7f8",
   "metadata": {},
   "outputs": [
    {
     "name": "stdout",
     "output_type": "stream",
     "text": [
      "The Accuracy Score is : 1.0\n"
     ]
    }
   ],
   "source": [
    "Accuracy_Score= accuracy_score(y_test,y_prediction)\n",
    "print('The Accuracy Score is :',Accuracy_Score)"
   ]
  },
  {
   "cell_type": "markdown",
   "id": "620565a9",
   "metadata": {},
   "source": [
    "### Confusion matrix"
   ]
  },
  {
   "cell_type": "code",
   "execution_count": 17,
   "id": "dedeb564",
   "metadata": {},
   "outputs": [
    {
     "data": {
      "text/plain": [
       "array([[54,  0],\n",
       "       [ 0, 41]], dtype=int64)"
      ]
     },
     "execution_count": 17,
     "metadata": {},
     "output_type": "execute_result"
    }
   ],
   "source": [
    "confusion_matrix(y_test,y_prediction)"
   ]
  },
  {
   "cell_type": "markdown",
   "id": "3d1278a8",
   "metadata": {},
   "source": [
    "### Plot Confusion Matrix"
   ]
  },
  {
   "cell_type": "code",
   "execution_count": 18,
   "id": "0764fe1a",
   "metadata": {},
   "outputs": [
    {
     "data": {
      "image/png": "[encoded data removed]",
      "text/plain": [
       "<Figure size 720x720 with 2 Axes>"
      ]
     },
     "metadata": {
      "needs_background": "light"
     },
     "output_type": "display_data"
    }
   ],
   "source": [
    "import matplotlib.pyplot as plt\n",
    "fig, ax = plt.subplots(figsize=(10,10))\n",
    "plot_confusion_matrix(RFC, x_test, y_test, ax=ax)\n",
    "plt.title('Confusion matrix of Support Vector Machine Classifier')\n",
    "plt.show()"
   ]
  },
  {
   "cell_type": "markdown",
   "id": "fe554c83",
   "metadata": {},
   "source": [
    "### Classification Report"
   ]
  },
  {
   "cell_type": "code",
   "execution_count": 19,
   "id": "f16140ed",
   "metadata": {},
   "outputs": [
    {
     "name": "stdout",
     "output_type": "stream",
     "text": [
      "              precision    recall  f1-score   support\n",
      "\n",
      "           0       1.00      1.00      1.00        54\n",
      "           1       1.00      1.00      1.00        41\n",
      "\n",
      "    accuracy                           1.00        95\n",
      "   macro avg       1.00      1.00      1.00        95\n",
      "weighted avg       1.00      1.00      1.00        95\n",
      "\n"
     ]
    }
   ],
   "source": [
    "classification_Report= classification_report(y_test,y_prediction)\n",
    "print(classification_Report)"
   ]
  },
  {
   "cell_type": "code",
   "execution_count": 21,
   "id": "3212e63d",
   "metadata": {},
   "outputs": [
    {
     "data": {
      "text/plain": [
       "['RFC.pkl']"
      ]
     },
     "execution_count": 21,
     "metadata": {},
     "output_type": "execute_result"
    }
   ],
   "source": [
    "import joblib\n",
    "joblib.dump(RFC,'RFC.pkl')"
   ]
  },
  {
   "cell_type": "code",
   "execution_count": null,
   "id": "5736810e",
   "metadata": {},
   "outputs": [],
   "source": []
  }
 ],
 "metadata": {
  "kernelspec": {
   "display_name": "Python 3 (ipykernel)",
   "language": "python",
   "name": "python3"
  },
  "language_info": {
   "codemirror_mode": {
    "name": "ipython",
    "version": 3
   },
   "file_extension": ".py",
   "mimetype": "text/x-python",
   "name": "python",
   "nbconvert_exporter": "python",
   "pygments_lexer": "ipython3",
   "version": "3.7.13"
  }
 },
 "nbformat": 4,
 "nbformat_minor": 5
}
