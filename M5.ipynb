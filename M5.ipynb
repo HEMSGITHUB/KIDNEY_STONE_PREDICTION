{
 "cells": [
  {
   "cell_type": "markdown",
   "id": "4189f596",
   "metadata": {},
   "source": [
    "## Voting Classifier"
   ]
  },
  {
   "cell_type": "code",
   "execution_count": 1,
   "id": "a0f1c798",
   "metadata": {},
   "outputs": [],
   "source": [
    "import warnings\n",
    "warnings.filterwarnings('ignore')"
   ]
  },
  {
   "cell_type": "code",
   "execution_count": 2,
   "id": "1aaa320f",
   "metadata": {},
   "outputs": [],
   "source": [
    "import pandas as pd\n",
    "import numpy as np\n",
    "from sklearn.ensemble import VotingClassifier\n",
    "from sklearn.metrics import classification_report, confusion_matrix, plot_confusion_matrix, accuracy_score\n",
    "from sklearn.model_selection import train_test_split"
   ]
  },
  {
   "cell_type": "markdown",
   "id": "7d133ed3",
   "metadata": {},
   "source": [
    "### Loading CSV File"
   ]
  },
  {
   "cell_type": "code",
   "execution_count": 3,
   "id": "ed81f9da",
   "metadata": {},
   "outputs": [],
   "source": [
    "data=pd.read_csv('KS.csv')\n"
   ]
  },
  {
   "cell_type": "markdown",
   "id": "53a18983",
   "metadata": {},
   "source": [
    "### Let's Know the shape of our Dataset"
   ]
  },
  {
   "cell_type": "code",
   "execution_count": 4,
   "id": "582e0c9a",
   "metadata": {},
   "outputs": [
    {
     "data": {
      "text/plain": [
       "(316, 7)"
      ]
     },
     "execution_count": 4,
     "metadata": {},
     "output_type": "execute_result"
    }
   ],
   "source": [
    "data.shape"
   ]
  },
  {
   "cell_type": "markdown",
   "id": "dcfc5e85",
   "metadata": {},
   "source": [
    "### Let's Know our Columns"
   ]
  },
  {
   "cell_type": "code",
   "execution_count": 5,
   "id": "b147f625",
   "metadata": {},
   "outputs": [
    {
     "data": {
      "text/plain": [
       "Index(['gravity', 'ph', 'osmo', 'cond', 'urea', 'calc', 'target'], dtype='object')"
      ]
     },
     "execution_count": 5,
     "metadata": {},
     "output_type": "execute_result"
    }
   ],
   "source": [
    "data.columns"
   ]
  },
  {
   "cell_type": "markdown",
   "id": "a096230f",
   "metadata": {},
   "source": [
    "### Let's seperate data"
   ]
  },
  {
   "cell_type": "code",
   "execution_count": 6,
   "id": "45c33061",
   "metadata": {},
   "outputs": [],
   "source": [
    "features = ['gravity', 'ph', 'osmo', 'cond', 'urea', 'calc']\n",
    "target=['target']"
   ]
  },
  {
   "cell_type": "code",
   "execution_count": 7,
   "id": "bcccdd88",
   "metadata": {},
   "outputs": [],
   "source": [
    "x=data[features]\n",
    "y=data[target]"
   ]
  },
  {
   "cell_type": "markdown",
   "id": "9b50cac8",
   "metadata": {},
   "source": [
    "### Let's Split and Train Data"
   ]
  },
  {
   "cell_type": "code",
   "execution_count": 8,
   "id": "28626029",
   "metadata": {},
   "outputs": [],
   "source": [
    "x_train,x_test,y_train,y_test=train_test_split(x,y,test_size=0.3,stratify=y)"
   ]
  },
  {
   "cell_type": "code",
   "execution_count": 9,
   "id": "c3b97f25",
   "metadata": {},
   "outputs": [
    {
     "data": {
      "text/plain": [
       "VotingClassifier(estimators=[('XGB',\n",
       "                              XGBClassifier(base_score=None, booster=None,\n",
       "                                            callbacks=None,\n",
       "                                            colsample_bylevel=None,\n",
       "                                            colsample_bynode=None,\n",
       "                                            colsample_bytree=None,\n",
       "                                            early_stopping_rounds=None,\n",
       "                                            enable_categorical=False,\n",
       "                                            eval_metric=None, gamma=None,\n",
       "                                            gpu_id=None, grow_policy=None,\n",
       "                                            importance_type=None,\n",
       "                                            interaction_constraints=None,\n",
       "                                            learning_rate=None, max_bin=None,\n",
       "                                            max_cat_to_onehot=None,\n",
       "                                            max_delta_step=None, max_depth=None,\n",
       "                                            max_leaves=None,\n",
       "                                            min_child_weight=None, missing=nan,\n",
       "                                            monotone_constraints=None,\n",
       "                                            n_estimators=100, n_jobs=None,\n",
       "                                            num_parallel_tree=None,\n",
       "                                            predictor=None, random_state=42,\n",
       "                                            reg_alpha=None, reg_lambda=None, ...)),\n",
       "                             ('GNB', GaussianNB()),\n",
       "                             ('svm', SVC(probability=True, random_state=42))],\n",
       "                 voting='soft', weights=[1, 1, 1])"
      ]
     },
     "execution_count": 9,
     "metadata": {},
     "output_type": "execute_result"
    }
   ],
   "source": [
    "from xgboost import XGBClassifier\n",
    "from sklearn.naive_bayes import GaussianNB\n",
    "from sklearn.svm import SVC\n",
    "\n",
    "\n",
    "\n",
    "clf2 = XGBClassifier(random_state=42)\n",
    "clf3 = GaussianNB()\n",
    "clf4 = SVC(probability=True, random_state=42)\n",
    "\n",
    "VC = VotingClassifier(estimators=[('XGB', clf2), ('GNB', clf3), ('svm', clf4)],\n",
    "                        voting='soft', weights=[1,1,1])\n",
    "\n",
    "VC.fit(x_train, y_train)"
   ]
  },
  {
   "cell_type": "code",
   "execution_count": 10,
   "id": "e8cf9f6d",
   "metadata": {},
   "outputs": [],
   "source": [
    "y_prediction=VC.predict(x_test)"
   ]
  },
  {
   "cell_type": "markdown",
   "id": "c2a27c41",
   "metadata": {},
   "source": [
    "### Accuracy Score"
   ]
  },
  {
   "cell_type": "code",
   "execution_count": 11,
   "id": "5a96b527",
   "metadata": {},
   "outputs": [
    {
     "name": "stdout",
     "output_type": "stream",
     "text": [
      "The Accuracy Score is : 0.9052631578947369\n"
     ]
    }
   ],
   "source": [
    "Accuracy_Score= accuracy_score(y_test,y_prediction)\n",
    "print('The Accuracy Score is :',Accuracy_Score)"
   ]
  },
  {
   "cell_type": "markdown",
   "id": "af369160",
   "metadata": {},
   "source": [
    "### Confusion matrix"
   ]
  },
  {
   "cell_type": "code",
   "execution_count": 12,
   "id": "8d928258",
   "metadata": {},
   "outputs": [
    {
     "data": {
      "text/plain": [
       "array([[54,  0],\n",
       "       [ 9, 32]], dtype=int64)"
      ]
     },
     "execution_count": 12,
     "metadata": {},
     "output_type": "execute_result"
    }
   ],
   "source": [
    "confusion_matrix(y_test,y_prediction)"
   ]
  },
  {
   "cell_type": "markdown",
   "id": "5019e335",
   "metadata": {},
   "source": [
    "### Plot Confusion Matrix"
   ]
  },
  {
   "cell_type": "code",
   "execution_count": 15,
   "id": "4123015e",
   "metadata": {},
   "outputs": [
    {
     "data": {
      "image/png": "[encoded data removed]",
      "text/plain": [
       "<Figure size 720x720 with 2 Axes>"
      ]
     },
     "metadata": {
      "needs_background": "light"
     },
     "output_type": "display_data"
    }
   ],
   "source": [
    "import matplotlib.pyplot as plt\n",
    "fig, ax = plt.subplots(figsize=(10,10))\n",
    "plot_confusion_matrix(VC, x_test, y_test, ax=ax)\n",
    "plt.title('Confusion matrix of Support Vector Machine Classifier')\n",
    "plt.show()"
   ]
  },
  {
   "cell_type": "markdown",
   "id": "3867ff3a",
   "metadata": {},
   "source": [
    "### Classification Report"
   ]
  },
  {
   "cell_type": "code",
   "execution_count": 14,
   "id": "4583594d",
   "metadata": {},
   "outputs": [
    {
     "name": "stdout",
     "output_type": "stream",
     "text": [
      "              precision    recall  f1-score   support\n",
      "\n",
      "           0       0.86      1.00      0.92        54\n",
      "           1       1.00      0.78      0.88        41\n",
      "\n",
      "    accuracy                           0.91        95\n",
      "   macro avg       0.93      0.89      0.90        95\n",
      "weighted avg       0.92      0.91      0.90        95\n",
      "\n"
     ]
    }
   ],
   "source": [
    "classification_Report= classification_report(y_test,y_prediction)\n",
    "print(classification_Report)"
   ]
  },
  {
   "cell_type": "code",
   "execution_count": null,
   "id": "85ce560d",
   "metadata": {},
   "outputs": [],
   "source": []
  }
 ],
 "metadata": {
  "kernelspec": {
   "display_name": "Python 3 (ipykernel)",
   "language": "python",
   "name": "python3"
  },
  "language_info": {
   "codemirror_mode": {
    "name": "ipython",
    "version": 3
   },
   "file_extension": ".py",
   "mimetype": "text/x-python",
   "name": "python",
   "nbconvert_exporter": "python",
   "pygments_lexer": "ipython3",
   "version": "3.7.13"
  }
 },
 "nbformat": 4,
 "nbformat_minor": 5
}
