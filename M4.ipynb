{
 "cells": [
  {
   "cell_type": "markdown",
   "id": "6d9ecc01",
   "metadata": {},
   "source": [
    "## Gaussian Naive Bayes"
   ]
  },
  {
   "cell_type": "code",
   "execution_count": 1,
   "id": "6a987c95",
   "metadata": {},
   "outputs": [],
   "source": [
    "import warnings\n",
    "warnings.filterwarnings('ignore')"
   ]
  },
  {
   "cell_type": "code",
   "execution_count": 2,
   "id": "dc88e89e",
   "metadata": {},
   "outputs": [],
   "source": [
    "import pandas as pd\n",
    "import numpy as np\n",
    "from sklearn.naive_bayes import GaussianNB \n",
    "from sklearn.metrics import classification_report, confusion_matrix, plot_confusion_matrix, accuracy_score\n",
    "from sklearn.model_selection import train_test_split"
   ]
  },
  {
   "cell_type": "markdown",
   "id": "f789ac57",
   "metadata": {},
   "source": [
    "### Loading CSV File"
   ]
  },
  {
   "cell_type": "code",
   "execution_count": 3,
   "id": "256f8fc2",
   "metadata": {},
   "outputs": [],
   "source": [
    "data=pd.read_csv('KS.csv')\n"
   ]
  },
  {
   "cell_type": "markdown",
   "id": "64a08984",
   "metadata": {},
   "source": [
    "### Let's Know the shape of our Dataset"
   ]
  },
  {
   "cell_type": "code",
   "execution_count": 4,
   "id": "a1f82263",
   "metadata": {},
   "outputs": [
    {
     "data": {
      "text/plain": [
       "(316, 7)"
      ]
     },
     "execution_count": 4,
     "metadata": {},
     "output_type": "execute_result"
    }
   ],
   "source": [
    "data.shape"
   ]
  },
  {
   "cell_type": "markdown",
   "id": "802b75f0",
   "metadata": {},
   "source": [
    "### Let's Know our Columns"
   ]
  },
  {
   "cell_type": "code",
   "execution_count": 5,
   "id": "be098392",
   "metadata": {},
   "outputs": [
    {
     "data": {
      "text/plain": [
       "Index(['gravity', 'ph', 'osmo', 'cond', 'urea', 'calc', 'target'], dtype='object')"
      ]
     },
     "execution_count": 5,
     "metadata": {},
     "output_type": "execute_result"
    }
   ],
   "source": [
    "data.columns"
   ]
  },
  {
   "cell_type": "markdown",
   "id": "3e484461",
   "metadata": {},
   "source": [
    "### Let's seperate data"
   ]
  },
  {
   "cell_type": "code",
   "execution_count": 6,
   "id": "0e0f331e",
   "metadata": {},
   "outputs": [],
   "source": [
    "features = ['gravity', 'ph', 'osmo', 'cond', 'urea', 'calc']\n",
    "target=['target']"
   ]
  },
  {
   "cell_type": "code",
   "execution_count": 7,
   "id": "060da260",
   "metadata": {},
   "outputs": [],
   "source": [
    "x=data[features]\n",
    "y=data[target]"
   ]
  },
  {
   "cell_type": "markdown",
   "id": "1759c489",
   "metadata": {},
   "source": [
    "### Let's Split and Train Data"
   ]
  },
  {
   "cell_type": "code",
   "execution_count": 8,
   "id": "a4cca1fd",
   "metadata": {},
   "outputs": [],
   "source": [
    "x_train,x_test,y_train,y_test=train_test_split(x,y,test_size=0.3, stratify=y, random_state=32)"
   ]
  },
  {
   "cell_type": "code",
   "execution_count": 9,
   "id": "3c0cad83",
   "metadata": {},
   "outputs": [
    {
     "data": {
      "text/plain": [
       "GaussianNB()"
      ]
     },
     "execution_count": 9,
     "metadata": {},
     "output_type": "execute_result"
    }
   ],
   "source": [
    "GNB= GaussianNB()\n",
    "GNB.fit(x_train,y_train)"
   ]
  },
  {
   "cell_type": "code",
   "execution_count": 10,
   "id": "889418c0",
   "metadata": {},
   "outputs": [],
   "source": [
    "y_prediction=GNB.predict(x_test)"
   ]
  },
  {
   "cell_type": "markdown",
   "id": "eea765c0",
   "metadata": {},
   "source": [
    "### Accuracy Score"
   ]
  },
  {
   "cell_type": "code",
   "execution_count": 11,
   "id": "9aac7ed7",
   "metadata": {},
   "outputs": [
    {
     "name": "stdout",
     "output_type": "stream",
     "text": [
      "The Accuracy Score is : 0.7263157894736842\n"
     ]
    }
   ],
   "source": [
    "Accuracy_Score= accuracy_score(y_test,y_prediction)\n",
    "print('The Accuracy Score is :',Accuracy_Score)"
   ]
  },
  {
   "cell_type": "markdown",
   "id": "5238c928",
   "metadata": {},
   "source": [
    "### Confusion matrix"
   ]
  },
  {
   "cell_type": "code",
   "execution_count": 12,
   "id": "9b0f8f7f",
   "metadata": {},
   "outputs": [
    {
     "data": {
      "text/plain": [
       "array([[40, 14],\n",
       "       [12, 29]], dtype=int64)"
      ]
     },
     "execution_count": 12,
     "metadata": {},
     "output_type": "execute_result"
    }
   ],
   "source": [
    "confusion_matrix(y_test,y_prediction)"
   ]
  },
  {
   "cell_type": "markdown",
   "id": "5390b861",
   "metadata": {},
   "source": [
    "### Plot Confusion Matrix"
   ]
  },
  {
   "cell_type": "code",
   "execution_count": 13,
   "id": "3a8e9850",
   "metadata": {},
   "outputs": [
    {
     "data": {
      "text/plain": [
       "<Figure size 1000x1000 with 2 Axes>"
      ]
     },
     "metadata": {},
     "output_type": "display_data"
    }
   ],
   "source": [
    "import matplotlib.pyplot as plt\n",
    "fig, ax = plt.subplots(figsize=(10,10))\n",
    "plot_confusion_matrix(GNB, x_test, y_test, ax=ax)\n",
    "plt.title('Confusion matrix of Support Vector Machine Classifier')\n",
    "plt.show()"
   ]
  },
  {
   "cell_type": "markdown",
   "id": "87eec567",
   "metadata": {},
   "source": [
    "### Classification Report"
   ]
  },
  {
   "cell_type": "code",
   "execution_count": 14,
   "id": "405357a3",
   "metadata": {},
   "outputs": [
    {
     "name": "stdout",
     "output_type": "stream",
     "text": [
      "              precision    recall  f1-score   support\n",
      "\n",
      "           0       0.77      0.74      0.75        54\n",
      "           1       0.67      0.71      0.69        41\n",
      "\n",
      "    accuracy                           0.73        95\n",
      "   macro avg       0.72      0.72      0.72        95\n",
      "weighted avg       0.73      0.73      0.73        95\n",
      "\n"
     ]
    }
   ],
   "source": [
    "classification_Report= classification_report(y_test,y_prediction)\n",
    "print(classification_Report)"
   ]
  },
  {
   "cell_type": "code",
   "execution_count": null,
   "id": "149ae4f0",
   "metadata": {},
   "outputs": [],
   "source": []
  }
 ],
 "metadata": {
  "kernelspec": {
   "display_name": "Python 3 (ipykernel)",
   "language": "python",
   "name": "python3"
  },
  "language_info": {
   "codemirror_mode": {
    "name": "ipython",
    "version": 3
   },
   "file_extension": ".py",
   "mimetype": "text/x-python",
   "name": "python",
   "nbconvert_exporter": "python",
   "pygments_lexer": "ipython3",
   "version": "3.7.13"
  }
 },
 "nbformat": 4,
 "nbformat_minor": 5
}
